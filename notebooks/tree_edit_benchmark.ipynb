{
 "cells": [
  {
   "cell_type": "markdown",
   "metadata": {},
   "source": [
    "# Introduction\n",
    "Benchmark the performance of the `tree edit distance` computation with the APTED package."
   ]
  },
  {
   "cell_type": "markdown",
   "metadata": {},
   "source": [
    "## Notebook configuration\n",
    "Configure several notebook configuration settings."
   ]
  },
  {
   "cell_type": "code",
   "execution_count": 4,
   "metadata": {},
   "outputs": [
    {
     "data": {
      "text/html": [
       "<style>.container { width:98% !important; }</style>"
      ],
      "text/plain": [
       "<IPython.core.display.HTML object>"
      ]
     },
     "metadata": {},
     "output_type": "display_data"
    }
   ],
   "source": [
    "# Disable some warnings\n",
    "\n",
    "import warnings\n",
    "\n",
    "warnings.filterwarnings('ignore', category=DeprecationWarning)\n",
    "warnings.filterwarnings('ignore', category=UserWarning)\n",
    "warnings.filterwarnings('ignore', category=FutureWarning)\n",
    "\n",
    "# Display all cell outputs\n",
    "from IPython.core.interactiveshell import InteractiveShell\n",
    "InteractiveShell.ast_node_interactivity = 'last_expr'\n",
    "\n",
    "# Use full screen width\n",
    "from IPython.core.display import display, HTML\n",
    "display(HTML(\"<style>.container { width:98% !important; }</style>\"))"
   ]
  },
  {
   "cell_type": "markdown",
   "metadata": {},
   "source": [
    "## Libraries / Packages\n",
    "Import several useful packages for the notebook and configure some extra options."
   ]
  },
  {
   "cell_type": "code",
   "execution_count": 26,
   "metadata": {},
   "outputs": [],
   "source": [
    "# Miscellaneous libraries\n",
    "import time\n",
    "import random\n",
    "import numpy as np\n",
    "import pandas as pd\n",
    "import networkx as nx\n",
    "\n",
    "from tqdm.notebook import tqdm\n",
    "from collections import defaultdict, Counter\n",
    "\n",
    "# Setup some options for pandas\n",
    "pd.options.display.max_columns = 50\n",
    "pd.options.display.max_rows = 100\n",
    "\n",
    "\n",
    "# Visualization\n",
    "import matplotlib\n",
    "import matplotlib.pyplot as plt\n",
    "\n",
    "%matplotlib inline\n",
    "matplotlib.style.use('seaborn-whitegrid')\n",
    "\n",
    "###\n",
    "\n",
    "import sys\n",
    "sys.path.append('..')\n",
    "\n",
    "from src.utils.convert import getAdjacencyList\n",
    "from src.models.dpatterns import computeEditDistance, computeRootedTrees"
   ]
  },
  {
   "cell_type": "markdown",
   "metadata": {},
   "source": [
    "# Benchmark\n",
    "---"
   ]
  },
  {
   "cell_type": "code",
   "execution_count": 33,
   "metadata": {},
   "outputs": [
    {
     "data": {
      "application/vnd.jupyter.widget-view+json": {
       "model_id": "7234a3757bff41b9ab2d6be5c1f92e70",
       "version_major": 2,
       "version_minor": 0
      },
      "text/plain": [
       "  0%|          | 0/100 [00:00<?, ?it/s]"
      ]
     },
     "metadata": {},
     "output_type": "display_data"
    },
    {
     "name": "stdout",
     "output_type": "stream",
     "text": [
      "{'n': 1000, 'p': 0.001, 'avg_degree': 1.0, 't_compute_trees': 0.01930734157562256, 't_compute_distance': 0.0014400553703308105}\n"
     ]
    },
    {
     "data": {
      "application/vnd.jupyter.widget-view+json": {
       "model_id": "99be1ca7db1e40efb887916854477b06",
       "version_major": 2,
       "version_minor": 0
      },
      "text/plain": [
       "  0%|          | 0/100 [00:00<?, ?it/s]"
      ]
     },
     "metadata": {},
     "output_type": "display_data"
    },
    {
     "name": "stdout",
     "output_type": "stream",
     "text": [
      "{'n': 1000, 'p': 0.002, 'avg_degree': 2.0, 't_compute_trees': 0.04323899507522583, 't_compute_distance': 0.015876760482788087}\n"
     ]
    },
    {
     "data": {
      "application/vnd.jupyter.widget-view+json": {
       "model_id": "cf5bdd713bd54b769837f64024fffd45",
       "version_major": 2,
       "version_minor": 0
      },
      "text/plain": [
       "  0%|          | 0/100 [00:00<?, ?it/s]"
      ]
     },
     "metadata": {},
     "output_type": "display_data"
    },
    {
     "name": "stdout",
     "output_type": "stream",
     "text": [
      "{'n': 1000, 'p': 0.003, 'avg_degree': 3.0, 't_compute_trees': 0.086741623878479, 't_compute_distance': 0.12925693273544311}\n"
     ]
    },
    {
     "data": {
      "application/vnd.jupyter.widget-view+json": {
       "model_id": "a632a49668c04540987116f89d06ec46",
       "version_major": 2,
       "version_minor": 0
      },
      "text/plain": [
       "  0%|          | 0/100 [00:00<?, ?it/s]"
      ]
     },
     "metadata": {},
     "output_type": "display_data"
    },
    {
     "name": "stdout",
     "output_type": "stream",
     "text": [
      "{'n': 1000, 'p': 0.004, 'avg_degree': 4.0, 't_compute_trees': 0.13195582389831542, 't_compute_distance': 0.34274343729019163}\n"
     ]
    },
    {
     "data": {
      "application/vnd.jupyter.widget-view+json": {
       "model_id": "bef6c7f707f949b19119226685bdc9d4",
       "version_major": 2,
       "version_minor": 0
      },
      "text/plain": [
       "  0%|          | 0/100 [00:00<?, ?it/s]"
      ]
     },
     "metadata": {},
     "output_type": "display_data"
    },
    {
     "name": "stdout",
     "output_type": "stream",
     "text": [
      "{'n': 1000, 'p': 0.005, 'avg_degree': 5.0, 't_compute_trees': 0.20074129343032837, 't_compute_distance': 1.2141845798492432}\n"
     ]
    },
    {
     "data": {
      "application/vnd.jupyter.widget-view+json": {
       "model_id": "4732cc3cb61246cea0721fcb4a3d8f66",
       "version_major": 2,
       "version_minor": 0
      },
      "text/plain": [
       "  0%|          | 0/100 [00:00<?, ?it/s]"
      ]
     },
     "metadata": {},
     "output_type": "display_data"
    },
    {
     "name": "stdout",
     "output_type": "stream",
     "text": [
      "{'n': 1000, 'p': 0.006, 'avg_degree': 6.0, 't_compute_trees': 0.292197539806366, 't_compute_distance': 3.8686818790435793}\n"
     ]
    },
    {
     "data": {
      "application/vnd.jupyter.widget-view+json": {
       "model_id": "21958f23a2a34fee9bf3aaaccb6c34b3",
       "version_major": 2,
       "version_minor": 0
      },
      "text/plain": [
       "  0%|          | 0/100 [00:00<?, ?it/s]"
      ]
     },
     "metadata": {},
     "output_type": "display_data"
    },
    {
     "name": "stdout",
     "output_type": "stream",
     "text": [
      "{'n': 1000, 'p': 0.007, 'avg_degree': 7.0, 't_compute_trees': 0.3700044274330139, 't_compute_distance': 5.939655733108521}\n"
     ]
    },
    {
     "data": {
      "application/vnd.jupyter.widget-view+json": {
       "model_id": "f9694a3b939c45b8a90a83de4db40637",
       "version_major": 2,
       "version_minor": 0
      },
      "text/plain": [
       "  0%|          | 0/100 [00:00<?, ?it/s]"
      ]
     },
     "metadata": {},
     "output_type": "display_data"
    },
    {
     "name": "stdout",
     "output_type": "stream",
     "text": [
      "{'n': 1000, 'p': 0.008, 'avg_degree': 8.0, 't_compute_trees': 0.5061180210113525, 't_compute_distance': 13.916362679004669}\n"
     ]
    },
    {
     "data": {
      "application/vnd.jupyter.widget-view+json": {
       "model_id": "285a3629e0094955961cfe80fb14de35",
       "version_major": 2,
       "version_minor": 0
      },
      "text/plain": [
       "  0%|          | 0/100 [00:00<?, ?it/s]"
      ]
     },
     "metadata": {},
     "output_type": "display_data"
    },
    {
     "name": "stdout",
     "output_type": "stream",
     "text": [
      "{'n': 1000, 'p': 0.009000000000000001, 'avg_degree': 9.000000000000002, 't_compute_trees': 0.737015643119812, 't_compute_distance': 36.342988781929016}\n"
     ]
    },
    {
     "data": {
      "text/html": [
       "<div>\n",
       "<style scoped>\n",
       "    .dataframe tbody tr th:only-of-type {\n",
       "        vertical-align: middle;\n",
       "    }\n",
       "\n",
       "    .dataframe tbody tr th {\n",
       "        vertical-align: top;\n",
       "    }\n",
       "\n",
       "    .dataframe thead th {\n",
       "        text-align: right;\n",
       "    }\n",
       "</style>\n",
       "<table border=\"1\" class=\"dataframe\">\n",
       "  <thead>\n",
       "    <tr style=\"text-align: right;\">\n",
       "      <th></th>\n",
       "      <th>n</th>\n",
       "      <th>p</th>\n",
       "      <th>avg_degree</th>\n",
       "      <th>t_compute_trees</th>\n",
       "      <th>t_compute_distance</th>\n",
       "    </tr>\n",
       "  </thead>\n",
       "  <tbody>\n",
       "    <tr>\n",
       "      <th>0</th>\n",
       "      <td>1000</td>\n",
       "      <td>0.001</td>\n",
       "      <td>1.0</td>\n",
       "      <td>0.019307</td>\n",
       "      <td>0.001440</td>\n",
       "    </tr>\n",
       "    <tr>\n",
       "      <th>1</th>\n",
       "      <td>1000</td>\n",
       "      <td>0.002</td>\n",
       "      <td>2.0</td>\n",
       "      <td>0.043239</td>\n",
       "      <td>0.015877</td>\n",
       "    </tr>\n",
       "    <tr>\n",
       "      <th>2</th>\n",
       "      <td>1000</td>\n",
       "      <td>0.003</td>\n",
       "      <td>3.0</td>\n",
       "      <td>0.086742</td>\n",
       "      <td>0.129257</td>\n",
       "    </tr>\n",
       "    <tr>\n",
       "      <th>3</th>\n",
       "      <td>1000</td>\n",
       "      <td>0.004</td>\n",
       "      <td>4.0</td>\n",
       "      <td>0.131956</td>\n",
       "      <td>0.342743</td>\n",
       "    </tr>\n",
       "    <tr>\n",
       "      <th>4</th>\n",
       "      <td>1000</td>\n",
       "      <td>0.005</td>\n",
       "      <td>5.0</td>\n",
       "      <td>0.200741</td>\n",
       "      <td>1.214185</td>\n",
       "    </tr>\n",
       "    <tr>\n",
       "      <th>5</th>\n",
       "      <td>1000</td>\n",
       "      <td>0.006</td>\n",
       "      <td>6.0</td>\n",
       "      <td>0.292198</td>\n",
       "      <td>3.868682</td>\n",
       "    </tr>\n",
       "    <tr>\n",
       "      <th>6</th>\n",
       "      <td>1000</td>\n",
       "      <td>0.007</td>\n",
       "      <td>7.0</td>\n",
       "      <td>0.370004</td>\n",
       "      <td>5.939656</td>\n",
       "    </tr>\n",
       "    <tr>\n",
       "      <th>7</th>\n",
       "      <td>1000</td>\n",
       "      <td>0.008</td>\n",
       "      <td>8.0</td>\n",
       "      <td>0.506118</td>\n",
       "      <td>13.916363</td>\n",
       "    </tr>\n",
       "    <tr>\n",
       "      <th>8</th>\n",
       "      <td>1000</td>\n",
       "      <td>0.009</td>\n",
       "      <td>9.0</td>\n",
       "      <td>0.737016</td>\n",
       "      <td>36.342989</td>\n",
       "    </tr>\n",
       "  </tbody>\n",
       "</table>\n",
       "</div>"
      ],
      "text/plain": [
       "      n      p  avg_degree  t_compute_trees  t_compute_distance\n",
       "0  1000  0.001         1.0         0.019307            0.001440\n",
       "1  1000  0.002         2.0         0.043239            0.015877\n",
       "2  1000  0.003         3.0         0.086742            0.129257\n",
       "3  1000  0.004         4.0         0.131956            0.342743\n",
       "4  1000  0.005         5.0         0.200741            1.214185\n",
       "5  1000  0.006         6.0         0.292198            3.868682\n",
       "6  1000  0.007         7.0         0.370004            5.939656\n",
       "7  1000  0.008         8.0         0.506118           13.916363\n",
       "8  1000  0.009         9.0         0.737016           36.342989"
      ]
     },
     "execution_count": 33,
     "metadata": {},
     "output_type": "execute_result"
    }
   ],
   "source": [
    "results = []\n",
    "\n",
    "# Number of runs per parameter combination to avg results\n",
    "num_runs = 100\n",
    "# Fixed depth\n",
    "depth = 3\n",
    "# Parameters for the graph generation\n",
    "n = [1_000]\n",
    "p = np.arange(0.001, 0.01, 0.001)\n",
    "\n",
    "###\n",
    "for n_i in n:\n",
    "    for p_j in p:\n",
    "        G = nx.erdos_renyi_graph(n=n_i, p=p_j)\n",
    "        G = getAdjacencyList(G)\n",
    "        t_compute_trees = 0\n",
    "        t_compute_distance = 0\n",
    "        for _ in tqdm(range(num_runs)):\n",
    "            # Compute the rooted trees of the dataset\n",
    "            t0 = time.time()\n",
    "            rooted_trees = computeRootedTrees(G, depth=depth)\n",
    "            t1 = time.time()\n",
    "            # Select random two trees in the dataset\n",
    "            T1 = rooted_trees[random.randint(0, n_i - 1)]\n",
    "            T2 = rooted_trees[random.randint(0, n_i - 1)]\n",
    "            # Compute the distance between them\n",
    "            distance = computeEditDistance(T1, T2)\n",
    "            t2 = time.time()\n",
    "            # Store timings\n",
    "            t_compute_trees += t1 - t0\n",
    "            t_compute_distance += t2 - t1\n",
    "        # Append the results\n",
    "        results_i = {\n",
    "            'n': n_i,\n",
    "            'p': p_j,\n",
    "            'avg_degree': n_i * p_j,\n",
    "            't_compute_trees': t_compute_trees / num_runs,\n",
    "            't_compute_distance': t_compute_distance / num_runs,\n",
    "        }\n",
    "        print(results_i)\n",
    "        results.append(results_i)\n",
    "\n",
    "\n",
    "results = pd.DataFrame(results)\n",
    "results"
   ]
  },
  {
   "cell_type": "code",
   "execution_count": 56,
   "metadata": {},
   "outputs": [
    {
     "data": {
      "image/png": "[encoded data removed]",
      "text/plain": [
       "<Figure size 1440x720 with 2 Axes>"
      ]
     },
     "metadata": {},
     "output_type": "display_data"
    }
   ],
   "source": [
    "fig, (ax1, ax2) = plt.subplots(1, 2, figsize=(20, 10), sharey=False)\n",
    "\n",
    "ax1.plot(results['avg_degree'], results['t_compute_trees'], marker='o')\n",
    "ax1.set_title('Time to compute the trees')\n",
    "ax1.set_ylabel('Time (s)')\n",
    "ax1.set_xlabel('Node avg. degree')\n",
    "\n",
    "ax2.plot(results['avg_degree'], results['t_compute_distance'], marker='o')\n",
    "ax2.set_title('Time to compute the distances between two trees')\n",
    "ax2.set_ylabel('Time (s)')\n",
    "ax2.set_xlabel('Node avg. degree')\n",
    "\n",
    "plt.show()"
   ]
  }
 ],
 "metadata": {
  "kernelspec": {
   "display_name": "Python 3",
   "language": "python",
   "name": "python3"
  },
  "language_info": {
   "codemirror_mode": {
    "name": "ipython",
    "version": 3
   },
   "file_extension": ".py",
   "mimetype": "text/x-python",
   "name": "python",
   "nbconvert_exporter": "python",
   "pygments_lexer": "ipython3",
   "version": "3.7.9"
  }
 },
 "nbformat": 4,
 "nbformat_minor": 4
}
